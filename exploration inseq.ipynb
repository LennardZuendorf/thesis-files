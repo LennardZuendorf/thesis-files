{
  "nbformat": 4,
  "nbformat_minor": 0,
  "metadata": {
    "colab": {
      "provenance": [],
      "machine_shape": "hm",
      "authorship_tag": "ABX9TyOh0WKbG3xSNpAb8OvUaLB5",
      "include_colab_link": true
    },
    "kernelspec": {
      "name": "python3",
      "display_name": "Python 3"
    },
    "language_info": {
      "name": "python"
    }
  },
  "cells": [
    {
      "cell_type": "markdown",
      "metadata": {
        "id": "view-in-github",
        "colab_type": "text"
      },
      "source": [
        "<a href=\"https://colab.research.google.com/github/LennardZuendorf/thesis-files/blob/main/exploration%20inseq.ipynb\" target=\"_parent\"><img src=\"https://colab.research.google.com/assets/colab-badge.svg\" alt=\"Open In Colab\"/></a>"
      ]
    },
    {
      "cell_type": "markdown",
      "source": [
        "# Testing Inseq + Sequence 2 Sequence Text Generation\n",
        "\n",
        "This notebook was created to test the Inseq package and usage with GODEL\n",
        "\n",
        "### Tested Model\n",
        "- GODEL\n",
        "\n",
        "#### Tested Interpretability Implementation\n",
        "Tests run with inseq. Inseq is a implementation on top of captum and other interpretability methods, specifically for sequence based text generation models.\n"
      ],
      "metadata": {
        "id": "Rq0b6yCluq8R"
      }
    },
    {
      "cell_type": "markdown",
      "source": [
        "## Installation, Imports and Setup"
      ],
      "metadata": {
        "id": "o3dRGsY-vOBL"
      }
    },
    {
      "cell_type": "markdown",
      "source": [
        "### Installs and Imports"
      ],
      "metadata": {
        "id": "rKAPeODnvQ0_"
      }
    },
    {
      "cell_type": "code",
      "source": [
        "# basic installs and additional utilies (usually not needed in colab)\n",
        "!pip install matplotlib\n",
        "!pip install numpy\n",
        "!pip install pandas\n",
        "!pip install ipywidgets\n",
        "!pip install ipython\n",
        "\n",
        "# model package installs\n",
        "!pip install torch\n",
        "!pip install transformers\n",
        "!pip install huggingface_hub\n",
        "!pip install accelerate\n",
        "!pip install sklearn\n",
        "\n",
        "# install inseq\n",
        "!pip install inseq"
      ],
      "metadata": {
        "id": "jL4MTe059FWZ"
      },
      "execution_count": null,
      "outputs": []
    },
    {
      "cell_type": "code",
      "source": [
        "# basic imports\n",
        "import matplotlib.pyplot as plt\n",
        "import numpy as np\n",
        "import pandas as pd\n",
        "import seaborn as sns\n",
        "\n",
        "# model imports\n",
        "import torch\n",
        "import transformers\n",
        "\n",
        "# interpretability import\n",
        "import inseq"
      ],
      "metadata": {
        "id": "0s4ucKjz9HHs"
      },
      "execution_count": null,
      "outputs": []
    },
    {
      "cell_type": "markdown",
      "source": [
        "## GODEL Testing Code"
      ],
      "metadata": {
        "id": "Cj0Qcea7TB3x"
      }
    },
    {
      "cell_type": "code",
      "source": [
        "# formatting function to formatting input for the model\n",
        "# CREDIT: Adapted from official interference example on Huggingface\n",
        "## see https://huggingface.co/microsoft/GODEL-v1_1-large-seq2seq\n",
        "def gd_format_prompt(message: str, system_prompt: str=\"\", knowledge: str = \"\"):\n",
        "\n",
        "    # adds knowledge text if not empty\n",
        "    if knowledge != \"\":\n",
        "        knowledge = \"[KNOWLEDGE] \" + knowledge\n",
        "\n",
        "    # adds the message to the prompt\n",
        "    prompt = f\" {message}\"\n",
        "    # combines the entire prompt\n",
        "    full_prompt = f\"{system_prompt} [CONTEXT] {prompt} {knowledge}\"\n",
        "\n",
        "    # returns the formatted prompt\n",
        "    return full_prompt"
      ],
      "metadata": {
        "id": "tFO4QbyjBBRD"
      },
      "execution_count": null,
      "outputs": []
    },
    {
      "cell_type": "code",
      "source": [
        "# running inseq gradient shap explainer on GODEL\n",
        "# CREDIT: copied and minimally changed from the offical inseq documentation\n",
        "# see https://inseq.org/en/latest/examples/quickstart.html#post-processing-attributions-with-aggregators\n",
        "\n",
        "# seting up GODEL test text with prompt formatter\n",
        "gd_test_text = gd_format_prompt(\"Does money buy happiness?\",\"Given a dialog context, you need to respond empathically.\")\n",
        "\n",
        "# setting up special wrapped inseq model with gradient shap explainer\n",
        "model = inseq.load_model(\"microsoft/GODEL-v1_1-large-seq2seq\", \"gradient_shap\")\n",
        "\n",
        "# generating model attribution with inseq\n",
        "attribution = model.attribute(\n",
        "    input_texts=gd_test_text,\n",
        "    generation_args={'max_new_tokens': 50},\n",
        "    attribute_target=True,\n",
        "    step_scores=[\"probability\"],\n",
        ")"
      ],
      "metadata": {
        "id": "MRegEnFU-Ove",
        "colab": {
          "base_uri": "https://localhost:8080/"
        },
        "outputId": "e882178d-4305-40e4-8869-2030d2bd6d52"
      },
      "execution_count": null,
      "outputs": [
        {
          "output_type": "stream",
          "name": "stderr",
          "text": [
            "/usr/local/lib/python3.10/dist-packages/transformers/generation/utils.py:1473: UserWarning: You have modified the pretrained model configuration to control generation. This is a deprecated strategy to control generation and will be removed soon, in a future version. Please use and modify the model generation configuration (see https://huggingface.co/docs/transformers/generation_strategies#default-text-generation-configuration )\n",
            "  warnings.warn(\n",
            "Attributing with gradient_shap...: 100%|██████████| 7/7 [00:12<00:00,  2.09s/it]\n"
          ]
        }
      ]
    },
    {
      "cell_type": "code",
      "source": [
        "# using inseq show function to display attributions\n",
        "attribution.show()"
      ],
      "metadata": {
        "colab": {
          "base_uri": "https://localhost:8080/",
          "height": 1000
        },
        "id": "XHjIi9CvSGqD",
        "outputId": "9a3e9eb7-940c-421b-dc4c-41b800b2fb68"
      },
      "execution_count": null,
      "outputs": [
        {
          "output_type": "display_data",
          "data": {
            "text/plain": [
              "<IPython.core.display.HTML object>"
            ],
            "text/html": [
              "<br/><b>0th instance:</b><br/>\n",
              "<html>\n",
              "<div id=\"xujvrkghwynzwrmttezu_viz_container\">\n",
              "    <div id=\"xujvrkghwynzwrmttezu_content\" style=\"padding:15px;border-style:solid;margin:5px;\">\n",
              "        <div id = \"xujvrkghwynzwrmttezu_saliency_plot_container\" class=\"xujvrkghwynzwrmttezu_viz_container\" style=\"display:block\">\n",
              "            \n",
              "<div id=\"dqzhbwdpbmtsbmcxayvy_saliency_plot\" class=\"dqzhbwdpbmtsbmcxayvy_viz_content\">\n",
              "    <div style=\"margin:5px;font-family:sans-serif;font-weight:bold;\">\n",
              "        <span style=\"font-size: 20px;\">Source Saliency Heatmap</span>\n",
              "        <br>\n",
              "        x: Generated tokens, y: Attributed tokens\n",
              "    </div>\n",
              "    \n",
              "<table border=\"1\" cellpadding=\"5\" cellspacing=\"5\"\n",
              "    style=\"overflow-x:scroll;display:block;\">\n",
              "    <tr><th></th>\n",
              "<th>▁Yes</th><th>,</th><th>▁it</th><th>▁does</th><th>.</th><th>&lt;/s&gt;</th></tr><tr><th>▁Given</th><th style=\"background:rgba(255.0, 13.0, 87.0, 0.26690433749257286)\">0.045</th><th style=\"background:rgba(255.0, 13.0, 87.0, 0.20384234501881549)\">0.035</th><th style=\"background:rgba(255.0, 13.0, 87.0, 0.1959595959595959)\">0.033</th><th style=\"background:rgba(255.0, 13.0, 87.0, 0.14078035254505847)\">0.025</th><th style=\"background:rgba(255.0, 13.0, 87.0, 0.16442859972271742)\">0.029</th><th style=\"background:rgba(255.0, 13.0, 87.0, 0.12501485442661908)\">0.021</th></tr><tr><th>▁</th><th style=\"background:rgba(255.0, 13.0, 87.0, 0.17231134878193693)\">0.029</th><th style=\"background:rgba(255.0, 13.0, 87.0, 0.09348385818974037)\">0.016</th><th style=\"background:rgba(255.0, 13.0, 87.0, 0.1171321053673995)\">0.021</th><th style=\"background:rgba(255.0, 13.0, 87.0, 0.10924935630817992)\">0.019</th><th style=\"background:rgba(255.0, 13.0, 87.0, 0.08560110913052081)\">0.015</th><th style=\"background:rgba(255.0, 13.0, 87.0, 0.08560110913052081)\">0.015</th></tr><tr><th>a</th><th style=\"background:rgba(255.0, 13.0, 87.0, 0.10136660724896006)\">0.017</th><th style=\"background:rgba(255.0, 13.0, 87.0, 0.09348385818974037)\">0.016</th><th style=\"background:rgba(255.0, 13.0, 87.0, 0.09348385818974037)\">0.016</th><th style=\"background:rgba(255.0, 13.0, 87.0, 0.06983561101208159)\">0.013</th><th style=\"background:rgba(255.0, 13.0, 87.0, 0.08560110913052081)\">0.016</th><th style=\"background:rgba(255.0, 13.0, 87.0, 0.06195286195286207)\">0.011</th></tr><tr><th>▁dialog</th><th style=\"background:rgba(255.0, 13.0, 87.0, 0.3536145771439889)\">0.06</th><th style=\"background:rgba(255.0, 13.0, 87.0, 0.36149732620320857)\">0.061</th><th style=\"background:rgba(255.0, 13.0, 87.0, 0.23537334125569415)\">0.04</th><th style=\"background:rgba(255.0, 13.0, 87.0, 0.17231134878193693)\">0.03</th><th style=\"background:rgba(255.0, 13.0, 87.0, 0.24325609031491383)\">0.041</th><th style=\"background:rgba(255.0, 13.0, 87.0, 0.14866310160427795)\">0.026</th></tr><tr><th>▁context</th><th style=\"background:rgba(255.0, 13.0, 87.0, 0.2590215884333532)\">0.044</th><th style=\"background:rgba(255.0, 13.0, 87.0, 0.46397306397306415)\">0.078</th><th style=\"background:rgba(255.0, 13.0, 87.0, 0.1880768469003763)\">0.032</th><th style=\"background:rgba(255.0, 13.0, 87.0, 0.1171321053673995)\">0.02</th><th style=\"background:rgba(255.0, 13.0, 87.0, 0.20384234501881549)\">0.035</th><th style=\"background:rgba(255.0, 13.0, 87.0, 0.15654585066349747)\">0.027</th></tr><tr><th>,</th><th style=\"background:rgba(255.0, 13.0, 87.0, 0.1171321053673995)\">0.021</th><th style=\"background:rgba(255.0, 13.0, 87.0, 0.1171321053673995)\">0.021</th><th style=\"background:rgba(255.0, 13.0, 87.0, 0.14078035254505847)\">0.025</th><th style=\"background:rgba(255.0, 13.0, 87.0, 0.07771836007130124)\">0.013</th><th style=\"background:rgba(255.0, 13.0, 87.0, 0.07771836007130124)\">0.014</th><th style=\"background:rgba(255.0, 13.0, 87.0, 0.07771836007130124)\">0.014</th></tr><tr><th>▁you</th><th style=\"background:rgba(255.0, 13.0, 87.0, 0.16442859972271742)\">0.028</th><th style=\"background:rgba(255.0, 13.0, 87.0, 0.10924935630817992)\">0.019</th><th style=\"background:rgba(255.0, 13.0, 87.0, 0.15654585066349747)\">0.027</th><th style=\"background:rgba(255.0, 13.0, 87.0, 0.09348385818974037)\">0.017</th><th style=\"background:rgba(255.0, 13.0, 87.0, 0.08560110913052081)\">0.015</th><th style=\"background:rgba(255.0, 13.0, 87.0, 0.12501485442661908)\">0.022</th></tr><tr><th>▁need</th><th style=\"background:rgba(255.0, 13.0, 87.0, 0.15654585066349747)\">0.027</th><th style=\"background:rgba(255.0, 13.0, 87.0, 0.08560110913052081)\">0.015</th><th style=\"background:rgba(255.0, 13.0, 87.0, 0.13289760348583876)\">0.023</th><th style=\"background:rgba(255.0, 13.0, 87.0, 0.09348385818974037)\">0.016</th><th style=\"background:rgba(255.0, 13.0, 87.0, 0.08560110913052081)\">0.015</th><th style=\"background:rgba(255.0, 13.0, 87.0, 0.20384234501881549)\">0.035</th></tr><tr><th>▁to</th><th style=\"background:rgba(255.0, 13.0, 87.0, 0.15654585066349747)\">0.026</th><th style=\"background:rgba(255.0, 13.0, 87.0, 0.06983561101208159)\">0.012</th><th style=\"background:rgba(255.0, 13.0, 87.0, 0.09348385818974037)\">0.016</th><th style=\"background:rgba(255.0, 13.0, 87.0, 0.06983561101208159)\">0.012</th><th style=\"background:rgba(255.0, 13.0, 87.0, 0.07771836007130124)\">0.013</th><th style=\"background:rgba(255.0, 13.0, 87.0, 0.26690433749257286)\">0.046</th></tr><tr><th>▁respond</th><th style=\"background:rgba(255.0, 13.0, 87.0, 0.2590215884333532)\">0.043</th><th style=\"background:rgba(255.0, 13.0, 87.0, 0.15654585066349747)\">0.027</th><th style=\"background:rgba(255.0, 13.0, 87.0, 0.1959595959595959)\">0.034</th><th style=\"background:rgba(255.0, 13.0, 87.0, 0.14078035254505847)\">0.025</th><th style=\"background:rgba(255.0, 13.0, 87.0, 0.15654585066349747)\">0.027</th><th style=\"background:rgba(255.0, 13.0, 87.0, 0.2511388393741335)\">0.042</th></tr><tr><th>▁emp</th><th style=\"background:rgba(255.0, 13.0, 87.0, 0.4718558130322837)\">0.079</th><th style=\"background:rgba(255.0, 13.0, 87.0, 0.36149732620320857)\">0.061</th><th style=\"background:rgba(255.0, 13.0, 87.0, 0.3693800752624282)\">0.062</th><th style=\"background:rgba(255.0, 13.0, 87.0, 0.29055258467023165)\">0.049</th><th style=\"background:rgba(255.0, 13.0, 87.0, 0.32208358090711037)\">0.054</th><th style=\"background:rgba(255.0, 13.0, 87.0, 0.3457318280847692)\">0.058</th></tr><tr><th>a</th><th style=\"background:rgba(255.0, 13.0, 87.0, 0.12501485442661908)\">0.021</th><th style=\"background:rgba(255.0, 13.0, 87.0, 0.06983561101208159)\">0.013</th><th style=\"background:rgba(255.0, 13.0, 87.0, 0.09348385818974037)\">0.016</th><th style=\"background:rgba(255.0, 13.0, 87.0, 0.06195286195286207)\">0.011</th><th style=\"background:rgba(255.0, 13.0, 87.0, 0.12501485442661908)\">0.022</th><th style=\"background:rgba(255.0, 13.0, 87.0, 0.10924935630817992)\">0.019</th></tr><tr><th>th</th><th style=\"background:rgba(255.0, 13.0, 87.0, 0.2511388393741335)\">0.043</th><th style=\"background:rgba(255.0, 13.0, 87.0, 0.13289760348583876)\">0.023</th><th style=\"background:rgba(255.0, 13.0, 87.0, 0.17231134878193693)\">0.03</th><th style=\"background:rgba(255.0, 13.0, 87.0, 0.10924935630817992)\">0.019</th><th style=\"background:rgba(255.0, 13.0, 87.0, 0.16442859972271742)\">0.028</th><th style=\"background:rgba(255.0, 13.0, 87.0, 0.1880768469003763)\">0.033</th></tr><tr><th>ically</th><th style=\"background:rgba(255.0, 13.0, 87.0, 0.18019409784115661)\">0.031</th><th style=\"background:rgba(255.0, 13.0, 87.0, 0.1959595959595959)\">0.033</th><th style=\"background:rgba(255.0, 13.0, 87.0, 0.16442859972271742)\">0.028</th><th style=\"background:rgba(255.0, 13.0, 87.0, 0.10924935630817992)\">0.019</th><th style=\"background:rgba(255.0, 13.0, 87.0, 0.14078035254505847)\">0.024</th><th style=\"background:rgba(255.0, 13.0, 87.0, 0.41667656961774624)\">0.07</th></tr><tr><th>.</th><th style=\"background:rgba(255.0, 13.0, 87.0, 0.1880768469003763)\">0.032</th><th style=\"background:rgba(255.0, 13.0, 87.0, 0.13289760348583876)\">0.023</th><th style=\"background:rgba(255.0, 13.0, 87.0, 0.16442859972271742)\">0.028</th><th style=\"background:rgba(255.0, 13.0, 87.0, 0.12501485442661908)\">0.022</th><th style=\"background:rgba(255.0, 13.0, 87.0, 0.12501485442661908)\">0.021</th><th style=\"background:rgba(255.0, 13.0, 87.0, 0.3693800752624282)\">0.062</th></tr><tr><th>▁[</th><th style=\"background:rgba(255.0, 13.0, 87.0, 0.20384234501881549)\">0.035</th><th style=\"background:rgba(255.0, 13.0, 87.0, 0.14866310160427795)\">0.025</th><th style=\"background:rgba(255.0, 13.0, 87.0, 0.1880768469003763)\">0.031</th><th style=\"background:rgba(255.0, 13.0, 87.0, 0.14866310160427795)\">0.026</th><th style=\"background:rgba(255.0, 13.0, 87.0, 0.14078035254505847)\">0.024</th><th style=\"background:rgba(255.0, 13.0, 87.0, 0.23537334125569415)\">0.04</th></tr><tr><th>CON</th><th style=\"background:rgba(255.0, 13.0, 87.0, 0.15654585066349747)\">0.027</th><th style=\"background:rgba(255.0, 13.0, 87.0, 0.17231134878193693)\">0.029</th><th style=\"background:rgba(255.0, 13.0, 87.0, 0.13289760348583876)\">0.023</th><th style=\"background:rgba(255.0, 13.0, 87.0, 0.10924935630817992)\">0.019</th><th style=\"background:rgba(255.0, 13.0, 87.0, 0.12501485442661908)\">0.022</th><th style=\"background:rgba(255.0, 13.0, 87.0, 0.16442859972271742)\">0.029</th></tr><tr><th>TE</th><th style=\"background:rgba(255.0, 13.0, 87.0, 0.16442859972271742)\">0.028</th><th style=\"background:rgba(255.0, 13.0, 87.0, 0.2590215884333532)\">0.044</th><th style=\"background:rgba(255.0, 13.0, 87.0, 0.14866310160427795)\">0.025</th><th style=\"background:rgba(255.0, 13.0, 87.0, 0.1171321053673995)\">0.02</th><th style=\"background:rgba(255.0, 13.0, 87.0, 0.1959595959595959)\">0.034</th><th style=\"background:rgba(255.0, 13.0, 87.0, 0.12501485442661908)\">0.022</th></tr><tr><th>X</th><th style=\"background:rgba(255.0, 13.0, 87.0, 0.09348385818974037)\">0.017</th><th style=\"background:rgba(255.0, 13.0, 87.0, 0.26690433749257286)\">0.045</th><th style=\"background:rgba(255.0, 13.0, 87.0, 0.08560110913052081)\">0.015</th><th style=\"background:rgba(255.0, 13.0, 87.0, 0.07771836007130124)\">0.013</th><th style=\"background:rgba(255.0, 13.0, 87.0, 0.219607843137255)\">0.037</th><th style=\"background:rgba(255.0, 13.0, 87.0, 0.08560110913052081)\">0.015</th></tr><tr><th>T</th><th style=\"background:rgba(255.0, 13.0, 87.0, 0.1171321053673995)\">0.021</th><th style=\"background:rgba(255.0, 13.0, 87.0, 0.14866310160427795)\">0.026</th><th style=\"background:rgba(255.0, 13.0, 87.0, 0.10136660724896006)\">0.017</th><th style=\"background:rgba(255.0, 13.0, 87.0, 0.10136660724896006)\">0.017</th><th style=\"background:rgba(255.0, 13.0, 87.0, 0.1880768469003763)\">0.032</th><th style=\"background:rgba(255.0, 13.0, 87.0, 0.1171321053673995)\">0.02</th></tr><tr><th>]</th><th style=\"background:rgba(255.0, 13.0, 87.0, 0.23537334125569415)\">0.04</th><th style=\"background:rgba(255.0, 13.0, 87.0, 0.14866310160427795)\">0.026</th><th style=\"background:rgba(255.0, 13.0, 87.0, 0.15654585066349747)\">0.027</th><th style=\"background:rgba(255.0, 13.0, 87.0, 0.17231134878193693)\">0.029</th><th style=\"background:rgba(255.0, 13.0, 87.0, 0.14078035254505847)\">0.024</th><th style=\"background:rgba(255.0, 13.0, 87.0, 0.26690433749257286)\">0.045</th></tr><tr><th>▁Does</th><th style=\"background:rgba(255.0, 13.0, 87.0, 0.3693800752624282)\">0.062</th><th style=\"background:rgba(255.0, 13.0, 87.0, 0.1880768469003763)\">0.032</th><th style=\"background:rgba(255.0, 13.0, 87.0, 0.2511388393741335)\">0.042</th><th style=\"background:rgba(255.0, 13.0, 87.0, 0.4797385620915033)\">0.081</th><th style=\"background:rgba(255.0, 13.0, 87.0, 0.18019409784115661)\">0.031</th><th style=\"background:rgba(255.0, 13.0, 87.0, 0.26690433749257286)\">0.045</th></tr><tr><th>▁money</th><th style=\"background:rgba(255.0, 13.0, 87.0, 0.2747870865517925)\">0.046</th><th style=\"background:rgba(255.0, 13.0, 87.0, 0.2590215884333532)\">0.043</th><th style=\"background:rgba(255.0, 13.0, 87.0, 0.5033868092691621)\">0.085</th><th style=\"background:rgba(255.0, 13.0, 87.0, 0.4245593186769657)\">0.071</th><th style=\"background:rgba(255.0, 13.0, 87.0, 0.2511388393741335)\">0.043</th><th style=\"background:rgba(255.0, 13.0, 87.0, 0.16442859972271742)\">0.028</th></tr><tr><th>▁buy</th><th style=\"background:rgba(255.0, 13.0, 87.0, 0.3457318280847692)\">0.058</th><th style=\"background:rgba(255.0, 13.0, 87.0, 0.2590215884333532)\">0.044</th><th style=\"background:rgba(255.0, 13.0, 87.0, 0.48762131115072294)\">0.082</th><th style=\"background:rgba(255.0, 13.0, 87.0, 0.7398692810457518)\">0.123</th><th style=\"background:rgba(255.0, 13.0, 87.0, 0.3299663299663301)\">0.055</th><th style=\"background:rgba(255.0, 13.0, 87.0, 0.15654585066349747)\">0.027</th></tr><tr><th>▁happiness</th><th style=\"background:rgba(255.0, 13.0, 87.0, 0.43244206773618543)\">0.073</th><th style=\"background:rgba(255.0, 13.0, 87.0, 0.26690433749257286)\">0.045</th><th style=\"background:rgba(255.0, 13.0, 87.0, 0.44820756585462457)\">0.075</th><th style=\"background:rgba(255.0, 13.0, 87.0, 0.43244206773618543)\">0.072</th><th style=\"background:rgba(255.0, 13.0, 87.0, 0.2590215884333532)\">0.044</th><th style=\"background:rgba(255.0, 13.0, 87.0, 0.18019409784115661)\">0.031</th></tr><tr><th>?</th><th style=\"background:rgba(255.0, 13.0, 87.0, 0.2826698356110118)\">0.047</th><th style=\"background:rgba(255.0, 13.0, 87.0, 0.12501485442661908)\">0.022</th><th style=\"background:rgba(255.0, 13.0, 87.0, 0.14866310160427795)\">0.025</th><th style=\"background:rgba(255.0, 13.0, 87.0, 0.14078035254505847)\">0.024</th><th style=\"background:rgba(255.0, 13.0, 87.0, 0.14078035254505847)\">0.024</th><th style=\"background:rgba(255.0, 13.0, 87.0, 0.1171321053673995)\">0.021</th></tr><tr><th>&lt;/s&gt;</th><th style=\"background:rgba(230.2941176470614, 26.505882352939775, 102.59215686274348, 0.0)\">0.0</th><th style=\"background:rgba(230.2941176470614, 26.505882352939775, 102.59215686274348, 0.0)\">0.0</th><th style=\"background:rgba(230.2941176470614, 26.505882352939775, 102.59215686274348, 0.0)\">0.0</th><th style=\"background:rgba(230.2941176470614, 26.505882352939775, 102.59215686274348, 0.0)\">0.0</th><th style=\"background:rgba(230.2941176470614, 26.505882352939775, 102.59215686274348, 0.0)\">0.0</th><th style=\"background:rgba(230.2941176470614, 26.505882352939775, 102.59215686274348, 0.0)\">0.0</th></tr><tr style=\"outline: thin solid\"><th><b>probability</b></th><th>0.176</th><th><b>0.522</b></th><th>0.204</th><th>0.453</th><th><b>0.722</b></th><th>0.161</th></table>\n",
              "</div>\n",
              "\n",
              "        </div>\n",
              "    </div>\n",
              "</div>\n",
              "</html>\n",
              "<br/><b>0th instance:</b><br/>\n",
              "<html>\n",
              "<div id=\"mptbvnovarowvtsscmjc_viz_container\">\n",
              "    <div id=\"mptbvnovarowvtsscmjc_content\" style=\"padding:15px;border-style:solid;margin:5px;\">\n",
              "        <div id = \"mptbvnovarowvtsscmjc_saliency_plot_container\" class=\"mptbvnovarowvtsscmjc_viz_container\" style=\"display:block\">\n",
              "            \n",
              "<div id=\"zhzvhwvxprguqdxfsgsd_saliency_plot\" class=\"zhzvhwvxprguqdxfsgsd_viz_content\">\n",
              "    <div style=\"margin:5px;font-family:sans-serif;font-weight:bold;\">\n",
              "        <span style=\"font-size: 20px;\">Target Saliency Heatmap</span>\n",
              "        <br>\n",
              "        x: Generated tokens, y: Attributed tokens\n",
              "    </div>\n",
              "    \n",
              "<table border=\"1\" cellpadding=\"5\" cellspacing=\"5\"\n",
              "    style=\"overflow-x:scroll;display:block;\">\n",
              "    <tr><th></th>\n",
              "<th>▁Yes</th><th>,</th><th>▁it</th><th>▁does</th><th>.</th><th>&lt;/s&gt;</th></tr><tr><th>▁Yes</th><th style=\"background:rgba(0.0, 0.0, 0.0, 0.0)\"></th><th style=\"background:rgba(255.0, 13.0, 87.0, 1.0)\">0.168</th><th style=\"background:rgba(255.0, 13.0, 87.0, 0.46397306397306415)\">0.078</th><th style=\"background:rgba(255.0, 13.0, 87.0, 0.5191523073876015)\">0.087</th><th style=\"background:rgba(255.0, 13.0, 87.0, 0.6137452960982372)\">0.103</th><th style=\"background:rgba(255.0, 13.0, 87.0, 0.26690433749257286)\">0.045</th></tr><tr><th>,</th><th style=\"background:rgba(0.0, 0.0, 0.0, 0.0)\"></th><th style=\"background:rgba(0.0, 0.0, 0.0, 0.0)\"></th><th style=\"background:rgba(255.0, 13.0, 87.0, 0.26690433749257286)\">0.045</th><th style=\"background:rgba(255.0, 13.0, 87.0, 0.26690433749257286)\">0.045</th><th style=\"background:rgba(255.0, 13.0, 87.0, 0.22749059219647458)\">0.039</th><th style=\"background:rgba(255.0, 13.0, 87.0, 0.14078035254505847)\">0.024</th></tr><tr><th>▁it</th><th style=\"background:rgba(0.0, 0.0, 0.0, 0.0)\"></th><th style=\"background:rgba(0.0, 0.0, 0.0, 0.0)\"></th><th style=\"background:rgba(0.0, 0.0, 0.0, 0.0)\"></th><th style=\"background:rgba(255.0, 13.0, 87.0, 0.36149732620320857)\">0.061</th><th style=\"background:rgba(255.0, 13.0, 87.0, 0.2826698356110118)\">0.048</th><th style=\"background:rgba(255.0, 13.0, 87.0, 0.13289760348583876)\">0.023</th></tr><tr><th>▁does</th><th style=\"background:rgba(0.0, 0.0, 0.0, 0.0)\"></th><th style=\"background:rgba(0.0, 0.0, 0.0, 0.0)\"></th><th style=\"background:rgba(0.0, 0.0, 0.0, 0.0)\"></th><th style=\"background:rgba(0.0, 0.0, 0.0, 0.0)\"></th><th style=\"background:rgba(255.0, 13.0, 87.0, 0.4245593186769657)\">0.071</th><th style=\"background:rgba(255.0, 13.0, 87.0, 0.1880768469003763)\">0.032</th></tr><tr><th>.</th><th style=\"background:rgba(0.0, 0.0, 0.0, 0.0)\"></th><th style=\"background:rgba(0.0, 0.0, 0.0, 0.0)\"></th><th style=\"background:rgba(0.0, 0.0, 0.0, 0.0)\"></th><th style=\"background:rgba(0.0, 0.0, 0.0, 0.0)\"></th><th style=\"background:rgba(0.0, 0.0, 0.0, 0.0)\"></th><th style=\"background:rgba(255.0, 13.0, 87.0, 0.3142008318478907)\">0.053</th></tr><tr><th>&lt;/s&gt;</th><th style=\"background:rgba(0.0, 0.0, 0.0, 0.0)\"></th><th style=\"background:rgba(0.0, 0.0, 0.0, 0.0)\"></th><th style=\"background:rgba(0.0, 0.0, 0.0, 0.0)\"></th><th style=\"background:rgba(0.0, 0.0, 0.0, 0.0)\"></th><th style=\"background:rgba(0.0, 0.0, 0.0, 0.0)\"></th><th style=\"background:rgba(0.0, 0.0, 0.0, 0.0)\"></th></tr><tr style=\"outline: thin solid\"><th><b>probability</b></th><th>0.176</th><th><b>0.522</b></th><th>0.204</th><th>0.453</th><th><b>0.722</b></th><th>0.161</th></table>\n",
              "</div>\n",
              "\n",
              "        </div>\n",
              "    </div>\n",
              "</div>\n",
              "</html>\n"
            ]
          },
          "metadata": {}
        }
      ]
    },
    {
      "cell_type": "code",
      "source": [
        "attribution.get_scores_dicts()"
      ],
      "metadata": {
        "id": "KeXA-hrIX-6j"
      },
      "execution_count": null,
      "outputs": []
    }
  ]
}
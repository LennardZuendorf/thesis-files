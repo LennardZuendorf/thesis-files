{
 "nbformat": 4,
 "nbformat_minor": 0,
 "metadata": {
  "colab": {
   "provenance": [],
   "machine_shape": "hm",
   "authorship_tag": "ABX9TyOFGCWa4yREKqDlbsvkUZxV"
  },
  "kernelspec": {
   "name": "python3",
   "display_name": "Python 3"
  },
  "language_info": {
   "name": "python"
  }
 },
 "cells": [
  {
   "cell_type": "markdown",
   "source": [],
   "metadata": {
    "id": "hxPVlngPSPfS"
   }
  },
  {
   "cell_type": "markdown",
   "source": [
    "## Installation, Imports and Setup"
   ],
   "metadata": {
    "id": "gjsiQKJcS02y"
   }
  },
  {
   "cell_type": "markdown",
   "source": [
    "### Tokens for Downloads\n",
    "\n",
    "Without a Github token the different variant of shap cannot be loaded. Without a HGF Token llama cannot load from the huggingface hub.\n",
    "\n",
    "This is set up for colab, alternatively the commented string variant below can be used. For this replace the string with an actual token.\n",
    "\n",
    "*   Github [Token Info](https://docs.github.com/en/authentication/keeping-your-account-and-data-secure/managing-your-personal-access-tokens)\n",
    "*   Huggingface [Token Info](https://huggingface.co/docs/hub/security-tokens)\n"
   ],
   "metadata": {
    "id": "bCExXRTeS2Xg"
   }
  },
  {
   "cell_type": "code",
   "execution_count": 1,
   "metadata": {
    "id": "xMQry026SLsz",
    "executionInfo": {
     "status": "ok",
     "timestamp": 1706354561540,
     "user_tz": -60,
     "elapsed": 2668,
     "user": {
      "displayName": "Lennard Zündorf",
      "userId": "01714560816823084743"
     }
    }
   },
   "outputs": [],
   "source": [
    "# grabbing tokens for repository and model access\n",
    "from google.colab import userdata\n",
    "\n",
    "gh_token = userdata.get(\"GITHUB_TOKEN\")\n",
    "hgf_token = userdata.get(\"HGF_TOKEN\")\n",
    "\n",
    "# gh_token=\"TOKEN\"\n",
    "# hgf_token=\"TOKEN\""
   ]
  },
  {
   "cell_type": "markdown",
   "source": [
    "### Installs and Imports"
   ],
   "metadata": {
    "id": "xVrHnm2iS8SD"
   }
  },
  {
   "cell_type": "code",
   "source": [
    "# basic installs and additional utilies (usually not needed in colab)\n",
    "!pip install matplotlib\n",
    "!pip install numpy\n",
    "!pip install pandas\n",
    "!pip install ipywidgets\n",
    "!pip install ipython\n",
    "\n",
    "# model package installs\n",
    "!pip install torch\n",
    "\n",
    "!pip install transformers\n",
    "!pip install huggingface_hub\n",
    "!pip install accelerate"
   ],
   "metadata": {
    "colab": {
     "base_uri": "https://localhost:8080/"
    },
    "id": "AooyIXInST8d",
    "executionInfo": {
     "status": "ok",
     "timestamp": 1706354614734,
     "user_tz": -60,
     "elapsed": 53203,
     "user": {
      "displayName": "Lennard Zündorf",
      "userId": "01714560816823084743"
     }
    },
    "outputId": "57c2ca8a-9c14-4ba3-82bd-81d5fd0d49ea"
   },
   "execution_count": 2,
   "outputs": [
    {
     "output_type": "stream",
     "name": "stdout",
     "text": [
      "Requirement already satisfied: matplotlib in /usr/local/lib/python3.10/dist-packages (3.7.1)\n",
      "Requirement already satisfied: contourpy>=1.0.1 in /usr/local/lib/python3.10/dist-packages (from matplotlib) (1.2.0)\n",
      "Requirement already satisfied: cycler>=0.10 in /usr/local/lib/python3.10/dist-packages (from matplotlib) (0.12.1)\n",
      "Requirement already satisfied: fonttools>=4.22.0 in /usr/local/lib/python3.10/dist-packages (from matplotlib) (4.47.2)\n",
      "Requirement already satisfied: kiwisolver>=1.0.1 in /usr/local/lib/python3.10/dist-packages (from matplotlib) (1.4.5)\n",
      "Requirement already satisfied: numpy>=1.20 in /usr/local/lib/python3.10/dist-packages (from matplotlib) (1.23.5)\n",
      "Requirement already satisfied: packaging>=20.0 in /usr/local/lib/python3.10/dist-packages (from matplotlib) (23.2)\n",
      "Requirement already satisfied: pillow>=6.2.0 in /usr/local/lib/python3.10/dist-packages (from matplotlib) (9.4.0)\n",
      "Requirement already satisfied: pyparsing>=2.3.1 in /usr/local/lib/python3.10/dist-packages (from matplotlib) (3.1.1)\n",
      "Requirement already satisfied: python-dateutil>=2.7 in /usr/local/lib/python3.10/dist-packages (from matplotlib) (2.8.2)\n",
      "Requirement already satisfied: six>=1.5 in /usr/local/lib/python3.10/dist-packages (from python-dateutil>=2.7->matplotlib) (1.16.0)\n",
      "Requirement already satisfied: numpy in /usr/local/lib/python3.10/dist-packages (1.23.5)\n",
      "Requirement already satisfied: pandas in /usr/local/lib/python3.10/dist-packages (1.5.3)\n",
      "Requirement already satisfied: python-dateutil>=2.8.1 in /usr/local/lib/python3.10/dist-packages (from pandas) (2.8.2)\n",
      "Requirement already satisfied: pytz>=2020.1 in /usr/local/lib/python3.10/dist-packages (from pandas) (2023.3.post1)\n",
      "Requirement already satisfied: numpy>=1.21.0 in /usr/local/lib/python3.10/dist-packages (from pandas) (1.23.5)\n",
      "Requirement already satisfied: six>=1.5 in /usr/local/lib/python3.10/dist-packages (from python-dateutil>=2.8.1->pandas) (1.16.0)\n",
      "Requirement already satisfied: ipywidgets in /usr/local/lib/python3.10/dist-packages (7.7.1)\n",
      "Requirement already satisfied: ipykernel>=4.5.1 in /usr/local/lib/python3.10/dist-packages (from ipywidgets) (5.5.6)\n",
      "Requirement already satisfied: ipython-genutils~=0.2.0 in /usr/local/lib/python3.10/dist-packages (from ipywidgets) (0.2.0)\n",
      "Requirement already satisfied: traitlets>=4.3.1 in /usr/local/lib/python3.10/dist-packages (from ipywidgets) (5.7.1)\n",
      "Requirement already satisfied: widgetsnbextension~=3.6.0 in /usr/local/lib/python3.10/dist-packages (from ipywidgets) (3.6.6)\n",
      "Requirement already satisfied: ipython>=4.0.0 in /usr/local/lib/python3.10/dist-packages (from ipywidgets) (7.34.0)\n",
      "Requirement already satisfied: jupyterlab-widgets>=1.0.0 in /usr/local/lib/python3.10/dist-packages (from ipywidgets) (3.0.9)\n",
      "Requirement already satisfied: jupyter-client in /usr/local/lib/python3.10/dist-packages (from ipykernel>=4.5.1->ipywidgets) (6.1.12)\n",
      "Requirement already satisfied: tornado>=4.2 in /usr/local/lib/python3.10/dist-packages (from ipykernel>=4.5.1->ipywidgets) (6.3.2)\n",
      "Requirement already satisfied: setuptools>=18.5 in /usr/local/lib/python3.10/dist-packages (from ipython>=4.0.0->ipywidgets) (67.7.2)\n",
      "Requirement already satisfied: jedi>=0.16 in /usr/local/lib/python3.10/dist-packages (from ipython>=4.0.0->ipywidgets) (0.19.1)\n",
      "Requirement already satisfied: decorator in /usr/local/lib/python3.10/dist-packages (from ipython>=4.0.0->ipywidgets) (4.4.2)\n",
      "Requirement already satisfied: pickleshare in /usr/local/lib/python3.10/dist-packages (from ipython>=4.0.0->ipywidgets) (0.7.5)\n",
      "Requirement already satisfied: prompt-toolkit!=3.0.0,!=3.0.1,<3.1.0,>=2.0.0 in /usr/local/lib/python3.10/dist-packages (from ipython>=4.0.0->ipywidgets) (3.0.43)\n",
      "Requirement already satisfied: pygments in /usr/local/lib/python3.10/dist-packages (from ipython>=4.0.0->ipywidgets) (2.16.1)\n",
      "Requirement already satisfied: backcall in /usr/local/lib/python3.10/dist-packages (from ipython>=4.0.0->ipywidgets) (0.2.0)\n",
      "Requirement already satisfied: matplotlib-inline in /usr/local/lib/python3.10/dist-packages (from ipython>=4.0.0->ipywidgets) (0.1.6)\n",
      "Requirement already satisfied: pexpect>4.3 in /usr/local/lib/python3.10/dist-packages (from ipython>=4.0.0->ipywidgets) (4.9.0)\n",
      "Requirement already satisfied: notebook>=4.4.1 in /usr/local/lib/python3.10/dist-packages (from widgetsnbextension~=3.6.0->ipywidgets) (6.5.5)\n",
      "Requirement already satisfied: parso<0.9.0,>=0.8.3 in /usr/local/lib/python3.10/dist-packages (from jedi>=0.16->ipython>=4.0.0->ipywidgets) (0.8.3)\n",
      "Requirement already satisfied: jinja2 in /usr/local/lib/python3.10/dist-packages (from notebook>=4.4.1->widgetsnbextension~=3.6.0->ipywidgets) (3.1.3)\n",
      "Requirement already satisfied: pyzmq<25,>=17 in /usr/local/lib/python3.10/dist-packages (from notebook>=4.4.1->widgetsnbextension~=3.6.0->ipywidgets) (23.2.1)\n",
      "Requirement already satisfied: argon2-cffi in /usr/local/lib/python3.10/dist-packages (from notebook>=4.4.1->widgetsnbextension~=3.6.0->ipywidgets) (23.1.0)\n",
      "Requirement already satisfied: jupyter-core>=4.6.1 in /usr/local/lib/python3.10/dist-packages (from notebook>=4.4.1->widgetsnbextension~=3.6.0->ipywidgets) (5.7.1)\n",
      "Requirement already satisfied: nbformat in /usr/local/lib/python3.10/dist-packages (from notebook>=4.4.1->widgetsnbextension~=3.6.0->ipywidgets) (5.9.2)\n",
      "Requirement already satisfied: nbconvert>=5 in /usr/local/lib/python3.10/dist-packages (from notebook>=4.4.1->widgetsnbextension~=3.6.0->ipywidgets) (6.5.4)\n",
      "Requirement already satisfied: nest-asyncio>=1.5 in /usr/local/lib/python3.10/dist-packages (from notebook>=4.4.1->widgetsnbextension~=3.6.0->ipywidgets) (1.6.0)\n",
      "Requirement already satisfied: Send2Trash>=1.8.0 in /usr/local/lib/python3.10/dist-packages (from notebook>=4.4.1->widgetsnbextension~=3.6.0->ipywidgets) (1.8.2)\n",
      "Requirement already satisfied: terminado>=0.8.3 in /usr/local/lib/python3.10/dist-packages (from notebook>=4.4.1->widgetsnbextension~=3.6.0->ipywidgets) (0.18.0)\n",
      "Requirement already satisfied: prometheus-client in /usr/local/lib/python3.10/dist-packages (from notebook>=4.4.1->widgetsnbextension~=3.6.0->ipywidgets) (0.19.0)\n",
      "Requirement already satisfied: nbclassic>=0.4.7 in /usr/local/lib/python3.10/dist-packages (from notebook>=4.4.1->widgetsnbextension~=3.6.0->ipywidgets) (1.0.0)\n",
      "Requirement already satisfied: python-dateutil>=2.1 in /usr/local/lib/python3.10/dist-packages (from jupyter-client->ipykernel>=4.5.1->ipywidgets) (2.8.2)\n",
      "Requirement already satisfied: ptyprocess>=0.5 in /usr/local/lib/python3.10/dist-packages (from pexpect>4.3->ipython>=4.0.0->ipywidgets) (0.7.0)\n",
      "Requirement already satisfied: wcwidth in /usr/local/lib/python3.10/dist-packages (from prompt-toolkit!=3.0.0,!=3.0.1,<3.1.0,>=2.0.0->ipython>=4.0.0->ipywidgets) (0.2.13)\n",
      "Requirement already satisfied: platformdirs>=2.5 in /usr/local/lib/python3.10/dist-packages (from jupyter-core>=4.6.1->notebook>=4.4.1->widgetsnbextension~=3.6.0->ipywidgets) (4.1.0)\n",
      "Requirement already satisfied: jupyter-server>=1.8 in /usr/local/lib/python3.10/dist-packages (from nbclassic>=0.4.7->notebook>=4.4.1->widgetsnbextension~=3.6.0->ipywidgets) (1.24.0)\n",
      "Requirement already satisfied: notebook-shim>=0.2.3 in /usr/local/lib/python3.10/dist-packages (from nbclassic>=0.4.7->notebook>=4.4.1->widgetsnbextension~=3.6.0->ipywidgets) (0.2.3)\n",
      "Requirement already satisfied: lxml in /usr/local/lib/python3.10/dist-packages (from nbconvert>=5->notebook>=4.4.1->widgetsnbextension~=3.6.0->ipywidgets) (4.9.4)\n",
      "Requirement already satisfied: beautifulsoup4 in /usr/local/lib/python3.10/dist-packages (from nbconvert>=5->notebook>=4.4.1->widgetsnbextension~=3.6.0->ipywidgets) (4.11.2)\n",
      "Requirement already satisfied: bleach in /usr/local/lib/python3.10/dist-packages (from nbconvert>=5->notebook>=4.4.1->widgetsnbextension~=3.6.0->ipywidgets) (6.1.0)\n",
      "Requirement already satisfied: defusedxml in /usr/local/lib/python3.10/dist-packages (from nbconvert>=5->notebook>=4.4.1->widgetsnbextension~=3.6.0->ipywidgets) (0.7.1)\n",
      "Requirement already satisfied: entrypoints>=0.2.2 in /usr/local/lib/python3.10/dist-packages (from nbconvert>=5->notebook>=4.4.1->widgetsnbextension~=3.6.0->ipywidgets) (0.4)\n",
      "Requirement already satisfied: jupyterlab-pygments in /usr/local/lib/python3.10/dist-packages (from nbconvert>=5->notebook>=4.4.1->widgetsnbextension~=3.6.0->ipywidgets) (0.3.0)\n",
      "Requirement already satisfied: MarkupSafe>=2.0 in /usr/local/lib/python3.10/dist-packages (from nbconvert>=5->notebook>=4.4.1->widgetsnbextension~=3.6.0->ipywidgets) (2.1.4)\n",
      "Requirement already satisfied: mistune<2,>=0.8.1 in /usr/local/lib/python3.10/dist-packages (from nbconvert>=5->notebook>=4.4.1->widgetsnbextension~=3.6.0->ipywidgets) (0.8.4)\n",
      "Requirement already satisfied: nbclient>=0.5.0 in /usr/local/lib/python3.10/dist-packages (from nbconvert>=5->notebook>=4.4.1->widgetsnbextension~=3.6.0->ipywidgets) (0.9.0)\n",
      "Requirement already satisfied: packaging in /usr/local/lib/python3.10/dist-packages (from nbconvert>=5->notebook>=4.4.1->widgetsnbextension~=3.6.0->ipywidgets) (23.2)\n",
      "Requirement already satisfied: pandocfilters>=1.4.1 in /usr/local/lib/python3.10/dist-packages (from nbconvert>=5->notebook>=4.4.1->widgetsnbextension~=3.6.0->ipywidgets) (1.5.1)\n",
      "Requirement already satisfied: tinycss2 in /usr/local/lib/python3.10/dist-packages (from nbconvert>=5->notebook>=4.4.1->widgetsnbextension~=3.6.0->ipywidgets) (1.2.1)\n",
      "Requirement already satisfied: fastjsonschema in /usr/local/lib/python3.10/dist-packages (from nbformat->notebook>=4.4.1->widgetsnbextension~=3.6.0->ipywidgets) (2.19.1)\n",
      "Requirement already satisfied: jsonschema>=2.6 in /usr/local/lib/python3.10/dist-packages (from nbformat->notebook>=4.4.1->widgetsnbextension~=3.6.0->ipywidgets) (4.19.2)\n",
      "Requirement already satisfied: six>=1.5 in /usr/local/lib/python3.10/dist-packages (from python-dateutil>=2.1->jupyter-client->ipykernel>=4.5.1->ipywidgets) (1.16.0)\n",
      "Requirement already satisfied: argon2-cffi-bindings in /usr/local/lib/python3.10/dist-packages (from argon2-cffi->notebook>=4.4.1->widgetsnbextension~=3.6.0->ipywidgets) (21.2.0)\n",
      "Requirement already satisfied: attrs>=22.2.0 in /usr/local/lib/python3.10/dist-packages (from jsonschema>=2.6->nbformat->notebook>=4.4.1->widgetsnbextension~=3.6.0->ipywidgets) (23.2.0)\n",
      "Requirement already satisfied: jsonschema-specifications>=2023.03.6 in /usr/local/lib/python3.10/dist-packages (from jsonschema>=2.6->nbformat->notebook>=4.4.1->widgetsnbextension~=3.6.0->ipywidgets) (2023.12.1)\n",
      "Requirement already satisfied: referencing>=0.28.4 in /usr/local/lib/python3.10/dist-packages (from jsonschema>=2.6->nbformat->notebook>=4.4.1->widgetsnbextension~=3.6.0->ipywidgets) (0.32.1)\n",
      "Requirement already satisfied: rpds-py>=0.7.1 in /usr/local/lib/python3.10/dist-packages (from jsonschema>=2.6->nbformat->notebook>=4.4.1->widgetsnbextension~=3.6.0->ipywidgets) (0.17.1)\n",
      "Requirement already satisfied: anyio<4,>=3.1.0 in /usr/local/lib/python3.10/dist-packages (from jupyter-server>=1.8->nbclassic>=0.4.7->notebook>=4.4.1->widgetsnbextension~=3.6.0->ipywidgets) (3.7.1)\n",
      "Requirement already satisfied: websocket-client in /usr/local/lib/python3.10/dist-packages (from jupyter-server>=1.8->nbclassic>=0.4.7->notebook>=4.4.1->widgetsnbextension~=3.6.0->ipywidgets) (1.7.0)\n",
      "Requirement already satisfied: cffi>=1.0.1 in /usr/local/lib/python3.10/dist-packages (from argon2-cffi-bindings->argon2-cffi->notebook>=4.4.1->widgetsnbextension~=3.6.0->ipywidgets) (1.16.0)\n",
      "Requirement already satisfied: soupsieve>1.2 in /usr/local/lib/python3.10/dist-packages (from beautifulsoup4->nbconvert>=5->notebook>=4.4.1->widgetsnbextension~=3.6.0->ipywidgets) (2.5)\n",
      "Requirement already satisfied: webencodings in /usr/local/lib/python3.10/dist-packages (from bleach->nbconvert>=5->notebook>=4.4.1->widgetsnbextension~=3.6.0->ipywidgets) (0.5.1)\n",
      "Requirement already satisfied: idna>=2.8 in /usr/local/lib/python3.10/dist-packages (from anyio<4,>=3.1.0->jupyter-server>=1.8->nbclassic>=0.4.7->notebook>=4.4.1->widgetsnbextension~=3.6.0->ipywidgets) (3.6)\n",
      "Requirement already satisfied: sniffio>=1.1 in /usr/local/lib/python3.10/dist-packages (from anyio<4,>=3.1.0->jupyter-server>=1.8->nbclassic>=0.4.7->notebook>=4.4.1->widgetsnbextension~=3.6.0->ipywidgets) (1.3.0)\n",
      "Requirement already satisfied: exceptiongroup in /usr/local/lib/python3.10/dist-packages (from anyio<4,>=3.1.0->jupyter-server>=1.8->nbclassic>=0.4.7->notebook>=4.4.1->widgetsnbextension~=3.6.0->ipywidgets) (1.2.0)\n",
      "Requirement already satisfied: pycparser in /usr/local/lib/python3.10/dist-packages (from cffi>=1.0.1->argon2-cffi-bindings->argon2-cffi->notebook>=4.4.1->widgetsnbextension~=3.6.0->ipywidgets) (2.21)\n",
      "Requirement already satisfied: ipython in /usr/local/lib/python3.10/dist-packages (7.34.0)\n",
      "Requirement already satisfied: setuptools>=18.5 in /usr/local/lib/python3.10/dist-packages (from ipython) (67.7.2)\n",
      "Requirement already satisfied: jedi>=0.16 in /usr/local/lib/python3.10/dist-packages (from ipython) (0.19.1)\n",
      "Requirement already satisfied: decorator in /usr/local/lib/python3.10/dist-packages (from ipython) (4.4.2)\n",
      "Requirement already satisfied: pickleshare in /usr/local/lib/python3.10/dist-packages (from ipython) (0.7.5)\n",
      "Requirement already satisfied: traitlets>=4.2 in /usr/local/lib/python3.10/dist-packages (from ipython) (5.7.1)\n",
      "Requirement already satisfied: prompt-toolkit!=3.0.0,!=3.0.1,<3.1.0,>=2.0.0 in /usr/local/lib/python3.10/dist-packages (from ipython) (3.0.43)\n",
      "Requirement already satisfied: pygments in /usr/local/lib/python3.10/dist-packages (from ipython) (2.16.1)\n",
      "Requirement already satisfied: backcall in /usr/local/lib/python3.10/dist-packages (from ipython) (0.2.0)\n",
      "Requirement already satisfied: matplotlib-inline in /usr/local/lib/python3.10/dist-packages (from ipython) (0.1.6)\n",
      "Requirement already satisfied: pexpect>4.3 in /usr/local/lib/python3.10/dist-packages (from ipython) (4.9.0)\n",
      "Requirement already satisfied: parso<0.9.0,>=0.8.3 in /usr/local/lib/python3.10/dist-packages (from jedi>=0.16->ipython) (0.8.3)\n",
      "Requirement already satisfied: ptyprocess>=0.5 in /usr/local/lib/python3.10/dist-packages (from pexpect>4.3->ipython) (0.7.0)\n",
      "Requirement already satisfied: wcwidth in /usr/local/lib/python3.10/dist-packages (from prompt-toolkit!=3.0.0,!=3.0.1,<3.1.0,>=2.0.0->ipython) (0.2.13)\n",
      "Requirement already satisfied: torch in /usr/local/lib/python3.10/dist-packages (2.1.0+cu121)\n",
      "Requirement already satisfied: filelock in /usr/local/lib/python3.10/dist-packages (from torch) (3.13.1)\n",
      "Requirement already satisfied: typing-extensions in /usr/local/lib/python3.10/dist-packages (from torch) (4.5.0)\n",
      "Requirement already satisfied: sympy in /usr/local/lib/python3.10/dist-packages (from torch) (1.12)\n",
      "Requirement already satisfied: networkx in /usr/local/lib/python3.10/dist-packages (from torch) (3.2.1)\n",
      "Requirement already satisfied: jinja2 in /usr/local/lib/python3.10/dist-packages (from torch) (3.1.3)\n",
      "Requirement already satisfied: fsspec in /usr/local/lib/python3.10/dist-packages (from torch) (2023.6.0)\n",
      "Requirement already satisfied: triton==2.1.0 in /usr/local/lib/python3.10/dist-packages (from torch) (2.1.0)\n",
      "Requirement already satisfied: MarkupSafe>=2.0 in /usr/local/lib/python3.10/dist-packages (from jinja2->torch) (2.1.4)\n",
      "Requirement already satisfied: mpmath>=0.19 in /usr/local/lib/python3.10/dist-packages (from sympy->torch) (1.3.0)\n",
      "Requirement already satisfied: transformers in /usr/local/lib/python3.10/dist-packages (4.35.2)\n",
      "Requirement already satisfied: filelock in /usr/local/lib/python3.10/dist-packages (from transformers) (3.13.1)\n",
      "Requirement already satisfied: huggingface-hub<1.0,>=0.16.4 in /usr/local/lib/python3.10/dist-packages (from transformers) (0.20.3)\n",
      "Requirement already satisfied: numpy>=1.17 in /usr/local/lib/python3.10/dist-packages (from transformers) (1.23.5)\n",
      "Requirement already satisfied: packaging>=20.0 in /usr/local/lib/python3.10/dist-packages (from transformers) (23.2)\n",
      "Requirement already satisfied: pyyaml>=5.1 in /usr/local/lib/python3.10/dist-packages (from transformers) (6.0.1)\n",
      "Requirement already satisfied: regex!=2019.12.17 in /usr/local/lib/python3.10/dist-packages (from transformers) (2023.6.3)\n",
      "Requirement already satisfied: requests in /usr/local/lib/python3.10/dist-packages (from transformers) (2.31.0)\n",
      "Requirement already satisfied: tokenizers<0.19,>=0.14 in /usr/local/lib/python3.10/dist-packages (from transformers) (0.15.1)\n",
      "Requirement already satisfied: safetensors>=0.3.1 in /usr/local/lib/python3.10/dist-packages (from transformers) (0.4.1)\n",
      "Requirement already satisfied: tqdm>=4.27 in /usr/local/lib/python3.10/dist-packages (from transformers) (4.66.1)\n",
      "Requirement already satisfied: fsspec>=2023.5.0 in /usr/local/lib/python3.10/dist-packages (from huggingface-hub<1.0,>=0.16.4->transformers) (2023.6.0)\n",
      "Requirement already satisfied: typing-extensions>=3.7.4.3 in /usr/local/lib/python3.10/dist-packages (from huggingface-hub<1.0,>=0.16.4->transformers) (4.5.0)\n",
      "Requirement already satisfied: charset-normalizer<4,>=2 in /usr/local/lib/python3.10/dist-packages (from requests->transformers) (3.3.2)\n",
      "Requirement already satisfied: idna<4,>=2.5 in /usr/local/lib/python3.10/dist-packages (from requests->transformers) (3.6)\n",
      "Requirement already satisfied: urllib3<3,>=1.21.1 in /usr/local/lib/python3.10/dist-packages (from requests->transformers) (2.0.7)\n",
      "Requirement already satisfied: certifi>=2017.4.17 in /usr/local/lib/python3.10/dist-packages (from requests->transformers) (2023.11.17)\n",
      "Requirement already satisfied: huggingface_hub in /usr/local/lib/python3.10/dist-packages (0.20.3)\n",
      "Requirement already satisfied: filelock in /usr/local/lib/python3.10/dist-packages (from huggingface_hub) (3.13.1)\n",
      "Requirement already satisfied: fsspec>=2023.5.0 in /usr/local/lib/python3.10/dist-packages (from huggingface_hub) (2023.6.0)\n",
      "Requirement already satisfied: requests in /usr/local/lib/python3.10/dist-packages (from huggingface_hub) (2.31.0)\n",
      "Requirement already satisfied: tqdm>=4.42.1 in /usr/local/lib/python3.10/dist-packages (from huggingface_hub) (4.66.1)\n",
      "Requirement already satisfied: pyyaml>=5.1 in /usr/local/lib/python3.10/dist-packages (from huggingface_hub) (6.0.1)\n",
      "Requirement already satisfied: typing-extensions>=3.7.4.3 in /usr/local/lib/python3.10/dist-packages (from huggingface_hub) (4.5.0)\n",
      "Requirement already satisfied: packaging>=20.9 in /usr/local/lib/python3.10/dist-packages (from huggingface_hub) (23.2)\n",
      "Requirement already satisfied: charset-normalizer<4,>=2 in /usr/local/lib/python3.10/dist-packages (from requests->huggingface_hub) (3.3.2)\n",
      "Requirement already satisfied: idna<4,>=2.5 in /usr/local/lib/python3.10/dist-packages (from requests->huggingface_hub) (3.6)\n",
      "Requirement already satisfied: urllib3<3,>=1.21.1 in /usr/local/lib/python3.10/dist-packages (from requests->huggingface_hub) (2.0.7)\n",
      "Requirement already satisfied: certifi>=2017.4.17 in /usr/local/lib/python3.10/dist-packages (from requests->huggingface_hub) (2023.11.17)\n",
      "Requirement already satisfied: accelerate in /usr/local/lib/python3.10/dist-packages (0.26.1)\n",
      "Requirement already satisfied: numpy>=1.17 in /usr/local/lib/python3.10/dist-packages (from accelerate) (1.23.5)\n",
      "Requirement already satisfied: packaging>=20.0 in /usr/local/lib/python3.10/dist-packages (from accelerate) (23.2)\n",
      "Requirement already satisfied: psutil in /usr/local/lib/python3.10/dist-packages (from accelerate) (5.9.5)\n",
      "Requirement already satisfied: pyyaml in /usr/local/lib/python3.10/dist-packages (from accelerate) (6.0.1)\n",
      "Requirement already satisfied: torch>=1.10.0 in /usr/local/lib/python3.10/dist-packages (from accelerate) (2.1.0+cu121)\n",
      "Requirement already satisfied: huggingface-hub in /usr/local/lib/python3.10/dist-packages (from accelerate) (0.20.3)\n",
      "Requirement already satisfied: safetensors>=0.3.1 in /usr/local/lib/python3.10/dist-packages (from accelerate) (0.4.1)\n",
      "Requirement already satisfied: filelock in /usr/local/lib/python3.10/dist-packages (from torch>=1.10.0->accelerate) (3.13.1)\n",
      "Requirement already satisfied: typing-extensions in /usr/local/lib/python3.10/dist-packages (from torch>=1.10.0->accelerate) (4.5.0)\n",
      "Requirement already satisfied: sympy in /usr/local/lib/python3.10/dist-packages (from torch>=1.10.0->accelerate) (1.12)\n",
      "Requirement already satisfied: networkx in /usr/local/lib/python3.10/dist-packages (from torch>=1.10.0->accelerate) (3.2.1)\n",
      "Requirement already satisfied: jinja2 in /usr/local/lib/python3.10/dist-packages (from torch>=1.10.0->accelerate) (3.1.3)\n",
      "Requirement already satisfied: fsspec in /usr/local/lib/python3.10/dist-packages (from torch>=1.10.0->accelerate) (2023.6.0)\n",
      "Requirement already satisfied: triton==2.1.0 in /usr/local/lib/python3.10/dist-packages (from torch>=1.10.0->accelerate) (2.1.0)\n",
      "Requirement already satisfied: requests in /usr/local/lib/python3.10/dist-packages (from huggingface-hub->accelerate) (2.31.0)\n",
      "Requirement already satisfied: tqdm>=4.42.1 in /usr/local/lib/python3.10/dist-packages (from huggingface-hub->accelerate) (4.66.1)\n",
      "Requirement already satisfied: MarkupSafe>=2.0 in /usr/local/lib/python3.10/dist-packages (from jinja2->torch>=1.10.0->accelerate) (2.1.4)\n",
      "Requirement already satisfied: charset-normalizer<4,>=2 in /usr/local/lib/python3.10/dist-packages (from requests->huggingface-hub->accelerate) (3.3.2)\n",
      "Requirement already satisfied: idna<4,>=2.5 in /usr/local/lib/python3.10/dist-packages (from requests->huggingface-hub->accelerate) (3.6)\n",
      "Requirement already satisfied: urllib3<3,>=1.21.1 in /usr/local/lib/python3.10/dist-packages (from requests->huggingface-hub->accelerate) (2.0.7)\n",
      "Requirement already satisfied: certifi>=2017.4.17 in /usr/local/lib/python3.10/dist-packages (from requests->huggingface-hub->accelerate) (2023.11.17)\n",
      "Requirement already satisfied: mpmath>=0.19 in /usr/local/lib/python3.10/dist-packages (from sympy->torch>=1.10.0->accelerate) (1.3.0)\n"
     ]
    }
   ]
  },
  {
   "cell_type": "code",
   "source": [
    "# installing captum package from GitHub repository\n",
    "!pip install git+https://${gh_token}@github.com/LennardZuendorf/thesis-captum.git\n",
    "\n",
    "# alternatively captum can be installed from pip\n",
    "## !pip install captum"
   ],
   "metadata": {
    "colab": {
     "base_uri": "https://localhost:8080/"
    },
    "id": "WhfCGHZuSWFT",
    "executionInfo": {
     "status": "ok",
     "timestamp": 1706354634828,
     "user_tz": -60,
     "elapsed": 20097,
     "user": {
      "displayName": "Lennard Zündorf",
      "userId": "01714560816823084743"
     }
    },
    "outputId": "23f6cf94-0db7-445d-8f1d-0a9711509eeb"
   },
   "execution_count": 3,
   "outputs": [
    {
     "output_type": "stream",
     "name": "stdout",
     "text": [
      "Collecting git+https://****@github.com/LennardZuendorf/thesis-captum.git\n",
      "  Cloning https://****@github.com/LennardZuendorf/thesis-captum.git to /tmp/pip-req-build-t_qn_0sx\n",
      "  Running command git clone --filter=blob:none --quiet 'https://****@github.com/LennardZuendorf/thesis-captum.git' /tmp/pip-req-build-t_qn_0sx\n",
      "  warning: redirecting to https://github.com/LennardZuendorf/thesis-captum.git/\n",
      "  Resolved https://****@github.com/LennardZuendorf/thesis-captum.git to commit 7dd85e4a2762b0d2c9850c33c966fb9d049dd909\n",
      "  Installing build dependencies ... \u001b[?25l\u001b[?25hdone\n",
      "  Getting requirements to build wheel ... \u001b[?25l\u001b[?25hdone\n",
      "  Preparing metadata (pyproject.toml) ... \u001b[?25l\u001b[?25hdone\n",
      "Requirement already satisfied: matplotlib in /usr/local/lib/python3.10/dist-packages (from captum==0.7.0) (3.7.1)\n",
      "Requirement already satisfied: numpy in /usr/local/lib/python3.10/dist-packages (from captum==0.7.0) (1.23.5)\n",
      "Requirement already satisfied: torch>=1.6 in /usr/local/lib/python3.10/dist-packages (from captum==0.7.0) (2.1.0+cu121)\n",
      "Requirement already satisfied: tqdm in /usr/local/lib/python3.10/dist-packages (from captum==0.7.0) (4.66.1)\n",
      "Requirement already satisfied: filelock in /usr/local/lib/python3.10/dist-packages (from torch>=1.6->captum==0.7.0) (3.13.1)\n",
      "Requirement already satisfied: typing-extensions in /usr/local/lib/python3.10/dist-packages (from torch>=1.6->captum==0.7.0) (4.5.0)\n",
      "Requirement already satisfied: sympy in /usr/local/lib/python3.10/dist-packages (from torch>=1.6->captum==0.7.0) (1.12)\n",
      "Requirement already satisfied: networkx in /usr/local/lib/python3.10/dist-packages (from torch>=1.6->captum==0.7.0) (3.2.1)\n",
      "Requirement already satisfied: jinja2 in /usr/local/lib/python3.10/dist-packages (from torch>=1.6->captum==0.7.0) (3.1.3)\n",
      "Requirement already satisfied: fsspec in /usr/local/lib/python3.10/dist-packages (from torch>=1.6->captum==0.7.0) (2023.6.0)\n",
      "Requirement already satisfied: triton==2.1.0 in /usr/local/lib/python3.10/dist-packages (from torch>=1.6->captum==0.7.0) (2.1.0)\n",
      "Requirement already satisfied: contourpy>=1.0.1 in /usr/local/lib/python3.10/dist-packages (from matplotlib->captum==0.7.0) (1.2.0)\n",
      "Requirement already satisfied: cycler>=0.10 in /usr/local/lib/python3.10/dist-packages (from matplotlib->captum==0.7.0) (0.12.1)\n",
      "Requirement already satisfied: fonttools>=4.22.0 in /usr/local/lib/python3.10/dist-packages (from matplotlib->captum==0.7.0) (4.47.2)\n",
      "Requirement already satisfied: kiwisolver>=1.0.1 in /usr/local/lib/python3.10/dist-packages (from matplotlib->captum==0.7.0) (1.4.5)\n",
      "Requirement already satisfied: packaging>=20.0 in /usr/local/lib/python3.10/dist-packages (from matplotlib->captum==0.7.0) (23.2)\n",
      "Requirement already satisfied: pillow>=6.2.0 in /usr/local/lib/python3.10/dist-packages (from matplotlib->captum==0.7.0) (9.4.0)\n",
      "Requirement already satisfied: pyparsing>=2.3.1 in /usr/local/lib/python3.10/dist-packages (from matplotlib->captum==0.7.0) (3.1.1)\n",
      "Requirement already satisfied: python-dateutil>=2.7 in /usr/local/lib/python3.10/dist-packages (from matplotlib->captum==0.7.0) (2.8.2)\n",
      "Requirement already satisfied: six>=1.5 in /usr/local/lib/python3.10/dist-packages (from python-dateutil>=2.7->matplotlib->captum==0.7.0) (1.16.0)\n",
      "Requirement already satisfied: MarkupSafe>=2.0 in /usr/local/lib/python3.10/dist-packages (from jinja2->torch>=1.6->captum==0.7.0) (2.1.4)\n",
      "Requirement already satisfied: mpmath>=0.19 in /usr/local/lib/python3.10/dist-packages (from sympy->torch>=1.6->captum==0.7.0) (1.3.0)\n"
     ]
    }
   ]
  },
  {
   "cell_type": "code",
   "source": [
    "# basic imports\n",
    "import matplotlib.pyplot as plt\n",
    "import numpy as np\n",
    "import pandas as pd\n",
    "import seaborn as sns\n",
    "\n",
    "# model imports\n",
    "import torch\n",
    "import transformers\n",
    "\n",
    "# interpretability import\n",
    "import captum"
   ],
   "metadata": {
    "id": "r7_3-_qfSX_E",
    "executionInfo": {
     "status": "ok",
     "timestamp": 1706354640921,
     "user_tz": -60,
     "elapsed": 6106,
     "user": {
      "displayName": "Lennard Zündorf",
      "userId": "01714560816823084743"
     }
    }
   },
   "execution_count": 4,
   "outputs": []
  },
  {
   "cell_type": "markdown",
   "source": [
    "### Setup Model"
   ],
   "metadata": {
    "id": "Ao3LoLc2SsIf"
   }
  },
  {
   "cell_type": "code",
   "source": [
    "# setting device based on available hardware\n",
    "if torch.cuda.is_available():\n",
    "    device = torch.device(\"cuda\")\n",
    "else:\n",
    "    device = torch.device(\"cpu\")\n",
    "\n",
    "print(f\"Device set to {device}.\")"
   ],
   "metadata": {
    "colab": {
     "base_uri": "https://localhost:8080/"
    },
    "id": "E1euHNwUa-26",
    "executionInfo": {
     "status": "ok",
     "timestamp": 1706354640922,
     "user_tz": -60,
     "elapsed": 19,
     "user": {
      "displayName": "Lennard Zündorf",
      "userId": "01714560816823084743"
     }
    },
    "outputId": "60403e48-816a-4288-ff39-40f5983ebdf4"
   },
   "execution_count": 5,
   "outputs": [
    {
     "output_type": "stream",
     "name": "stdout",
     "text": [
      "Device set to cpu.\n"
     ]
    }
   ]
  },
  {
   "cell_type": "code",
   "source": [
    "# setup mistral model and tokenizer\n",
    "from transformers import AutoTokenizer, AutoModelForCausalLM, GenerationConfig\n",
    "\n",
    "# mistral loading function so this can be run individually\n",
    "\n",
    "\n",
    "def load_mistral():\n",
    "\n",
    "    # load tokenizer and model from huggingface\n",
    "    mistral_tokenizer = AutoTokenizer.from_pretrained(\n",
    "        \"mistralai/Mistral-7B-Instruct-v0.2\"\n",
    "    )\n",
    "    mistral_model = AutoModelForCausalLM.from_pretrained(\n",
    "        \"mistralai/Mistral-7B-Instruct-v0.2\"\n",
    "    )\n",
    "\n",
    "    # manage setup based on available device\n",
    "    device = torch.device(\"cpu\")\n",
    "    mistral_model.to(device)\n",
    "\n",
    "    mistral_config = GenerationConfig.from_pretrained(\n",
    "        \"mistralai/Mistral-7B-Instruct-v0.2\"\n",
    "    )\n",
    "    mistral_config.update(**{\n",
    "        \"temperature\": 0.7,\n",
    "        \"max_new_tokens\": 50,\n",
    "        \"top_p\": 0.9,\n",
    "        \"repetition_penalty\": 1.2,\n",
    "        \"do_sample\": True,\n",
    "        \"seed\": 42,\n",
    "    })\n",
    "\n",
    "    return mistral_model, mistral_tokenizer, mistral_config"
   ],
   "metadata": {
    "id": "tMhwut90Ssjv",
    "executionInfo": {
     "status": "ok",
     "timestamp": 1706357357097,
     "user_tz": -60,
     "elapsed": 376,
     "user": {
      "displayName": "Lennard Zündorf",
      "userId": "01714560816823084743"
     }
    }
   },
   "execution_count": 50,
   "outputs": []
  },
  {
   "cell_type": "code",
   "source": [
    "# loading mistral model and tokenizer\n",
    "mistral_model, mistral_tokenizer, mistral_config = load_mistral()"
   ],
   "metadata": {
    "id": "c3uD6bZqSubu"
   },
   "execution_count": null,
   "outputs": []
  },
  {
   "cell_type": "markdown",
   "source": [
    "## Implementation Code"
   ],
   "metadata": {
    "id": "EDT8YcHmYWof"
   }
  },
  {
   "cell_type": "markdown",
   "source": [
    "### Utilities"
   ],
   "metadata": {
    "id": "EhSjzvDyZbYJ"
   }
  },
  {
   "cell_type": "code",
   "source": [
    "# formatting function for format output text and tokens\n",
    "import re\n",
    "\n",
    "# function to format the model reponse nicely\n",
    "\n",
    "\n",
    "def format_output_text(output: list):\n",
    "    # remove special tokens from list\n",
    "    formatted_output = format_tokens(output)\n",
    "\n",
    "    # start string with first list item if it is not empty\n",
    "    if formatted_output[0] != \"\":\n",
    "        output_str = formatted_output[0]\n",
    "    else:\n",
    "        # alternatively start with second list item\n",
    "        output_str = formatted_output[1]\n",
    "\n",
    "    # add all other list items with a space in between\n",
    "    for txt in formatted_output[1:]:\n",
    "        # check if the token is a punctuation mark\n",
    "        if txt in [\".\", \",\", \"!\", \"?\"]:\n",
    "            # add punctuation mark without space\n",
    "            output_str += txt\n",
    "        # add token with space if not empty\n",
    "        elif txt != \"\":\n",
    "            output_str += \" \" + txt\n",
    "\n",
    "    # return the combined string with multiple spaces removed\n",
    "    return re.sub(\" +\", \" \", output_str)\n",
    "\n",
    "\n",
    "# format the tokens by removing special tokens and special characters\n",
    "def format_tokens(tokens: list):\n",
    "    # define special tokens to remove and initialize empty list\n",
    "    special_tokens = [\"[CLS]\", \"[SEP]\", \"[PAD]\", \"[UNK]\", \"[MASK]\", \"▁\", \"Ġ\", \"</w>\"]\n",
    "    updated_tokens = []\n",
    "\n",
    "    # loop through tokens\n",
    "    for t in tokens:\n",
    "        # remove special token from start of token if found\n",
    "        if t.startswith(\"▁\"):\n",
    "            t = t.lstrip(\"▁\")\n",
    "\n",
    "        # loop through special tokens and remove them if found\n",
    "        for s in special_tokens:\n",
    "            t = t.replace(s, \"\")\n",
    "\n",
    "        # add token to list\n",
    "        updated_tokens.append(t)\n",
    "\n",
    "    # return the list of tokens\n",
    "    return updated_tokens\n",
    "\n",
    "\n",
    "# function to remove orphan whitespaces in a list of text\n",
    "\n",
    "\n",
    "def remove_orphan_whitespaces(texts: list):\n",
    "    # instantiating a new empty list\n",
    "    cleaned_list = []\n",
    "\n",
    "    # loopin over list\n",
    "    for text in texts:\n",
    "        if text != \" \" and text != \"\":\n",
    "            cleaned_list.append(text)\n",
    "\n",
    "    # additionally rmeoving multiple spaces and return\n",
    "    return cleaned_list"
   ],
   "metadata": {
    "id": "yJv8QxVMYZvs",
    "executionInfo": {
     "status": "ok",
     "timestamp": 1706355585180,
     "user_tz": -60,
     "elapsed": 4,
     "user": {
      "displayName": "Lennard Zündorf",
      "userId": "01714560816823084743"
     }
    }
   },
   "execution_count": 25,
   "outputs": []
  },
  {
   "cell_type": "markdown",
   "source": [
    "### Interpretability"
   ],
   "metadata": {
    "id": "CIVypWU8ZhVK"
   }
  },
  {
   "cell_type": "code",
   "source": [
    "# class for KernelSHAP attribution with captum\n",
    "def kernel_attribution(test_input: str, model, tokenizer):\n",
    "\n",
    "    # creating llm attribution class with KernelSHAP and given Model, Tokenizer\n",
    "    llm_attribution = LLMAttribution(KernelShap(model), tokenizer)\n",
    "\n",
    "    # generating attribution\n",
    "    attribution_input = TextTokenInput(test_input, tokenizer)\n",
    "    attribution_result = llm_attribution.attribute(attribution_input)\n",
    "\n",
    "    # returning full attribution result\n",
    "    return attribution_result"
   ],
   "metadata": {
    "id": "-kJ-jNICZUwf",
    "executionInfo": {
     "status": "ok",
     "timestamp": 1706357060124,
     "user_tz": -60,
     "elapsed": 5,
     "user": {
      "displayName": "Lennard Zündorf",
      "userId": "01714560816823084743"
     }
    }
   },
   "execution_count": 42,
   "outputs": []
  },
  {
   "cell_type": "markdown",
   "source": [
    "### Model Functions"
   ],
   "metadata": {
    "id": "_RatthK3Zi-P"
   }
  },
  {
   "cell_type": "code",
   "source": [
    "# advanced formatting function that takes into a account a conversation history\n",
    "# CREDIT: adapted from Venkata Bhanu Teja Pallakonda in Huggingface discussions\n",
    "## see https://huggingface.co/mistralai/Mistral-7B-Instruct-v0.1/discussions/\n",
    "def format_prompt(message: str, history: list, system_prompt: str):\n",
    "    prompt = \"\"\n",
    "\n",
    "    # if no history, use system prompt and example message\n",
    "    if len(history) == 0:\n",
    "        prompt = f\"\"\"<s>[INST] {system_prompt} [/INST] How can I help you today? </s>\n",
    "      [INST] {message} [/INST]\"\"\"\n",
    "    else:\n",
    "        # takes the very first exchange and the system prompt as base\n",
    "        for user_prompt, bot_response in history[0]:\n",
    "            prompt = (\n",
    "                f\"<s>[INST] {system_prompt} {user_prompt} [/INST] {bot_response}</s>\"\n",
    "            )\n",
    "\n",
    "        # takes all the following conversations and adds them as context\n",
    "        prompt += \"\".join(\n",
    "            f\"[INST] {user_prompt} [/INST] {bot_response}</s>\"\n",
    "            for user_prompt, bot_response in history[1:]\n",
    "        )\n",
    "\n",
    "    return prompt\n",
    "\n",
    "\n",
    "# function to extract real answer because mistral always returns the full prompt\n",
    "\n",
    "\n",
    "def format_answer(answer: str):\n",
    "    # empty answer string\n",
    "    formatted_answer = \"\"\n",
    "\n",
    "    # extracting text after INST tokens\n",
    "    parts = answer.split(\"[/INST]\")\n",
    "    if len(parts) >= 3:\n",
    "        # Return the text after the second occurrence of [/INST]\n",
    "        formatted_answer = parts[2].strip()\n",
    "    else:\n",
    "        # Return an empty string if there are fewer than two occurrences of [/INST]\n",
    "        formatted_answer = \"\"\n",
    "\n",
    "    return formatted_answer"
   ],
   "metadata": {
    "id": "JU8wasd-tyWm",
    "executionInfo": {
     "status": "ok",
     "timestamp": 1706357285409,
     "user_tz": -60,
     "elapsed": 3,
     "user": {
      "displayName": "Lennard Zündorf",
      "userId": "01714560816823084743"
     }
    }
   },
   "execution_count": 47,
   "outputs": []
  },
  {
   "cell_type": "code",
   "source": [
    "# explained and standart (vanilla) model generation function\n",
    "\n",
    "# imports\n",
    "from captum.attr import LLMAttribution, KernelShap, TextTokenInput\n",
    "\n",
    "# explained response function utalizing capumt\n",
    "\n",
    "\n",
    "def respond_explained(prompt: str):\n",
    "\n",
    "    # creating llm attribution class with KernelSHAP and Mistal Model, Tokenizer\n",
    "    llm_attribution = LLMAttribution(KernelShap(mistral_model), mistral_tokenizer)\n",
    "\n",
    "    # generation attribution\n",
    "    attribution_input = TextTokenInput(prompt, mistral_tokenizer)\n",
    "    attribution_result = llm_attribution.attribute(attribution_input)\n",
    "\n",
    "    # return attribution_result\n",
    "    return attribution_result\n",
    "\n",
    "\n",
    "# vanilla generation class returning the model response based on the input\n",
    "# CREDIT: adapted from official Mistral Ai 7B Instruct documentation on Huggingface\n",
    "## see https://huggingface.co/mistralai/Mistral-7B-Instruct-v0.2\n",
    "\n",
    "\n",
    "def respond(prompt: str):\n",
    "\n",
    "    # tokenizing inputs and configuring model\n",
    "    input_ids = mistral_tokenizer(f\"{prompt}\", return_tensors=\"pt\")[\"input_ids\"]\n",
    "\n",
    "    # generating text with tokenized input, returning output\n",
    "    output_ids = mistral_model.generate(\n",
    "        input_ids, max_new_tokens=50, generation_config=mistral_config\n",
    "    )\n",
    "    output_text = mistral_tokenizer.batch_decode(output_ids)\n",
    "    return output_text"
   ],
   "metadata": {
    "id": "zVBZt6mHZWuY",
    "executionInfo": {
     "status": "aborted",
     "timestamp": 1706356552866,
     "user_tz": -60,
     "elapsed": 2,
     "user": {
      "displayName": "Lennard Zündorf",
      "userId": "01714560816823084743"
     }
    }
   },
   "execution_count": null,
   "outputs": []
  },
  {
   "cell_type": "code",
   "source": [
    "# simple chat function that calls the model\n",
    "# formats prompts, calls for an answer and returns updated conversation history\n",
    "def chat(\n",
    "    message: str,\n",
    "    mode: str = \"vanilla\",\n",
    "    history: list = [],\n",
    "    system_prompt: str = \"Given a dialog context, you need to respond empathically.\",\n",
    "):\n",
    "    # formatting the prompt using the model's format_prompt function\n",
    "    prompt = format_prompt(message, history, system_prompt)\n",
    "\n",
    "    if mode == \"vanilla\":\n",
    "        # generating a formatted answer using the model's respond function\n",
    "        answer = respond(prompt)\n",
    "        answer = format_answer(answer)\n",
    "    elif mode == \"explained\":\n",
    "        # generating an attribution using the explained reponse function\n",
    "        attribution = respond_explained(prompt)\n",
    "\n",
    "        # extracting the answer from the attribution output and plotting the explanation\n",
    "        answer = format_output_text(attribution.output_tokens)\n",
    "        attribution.plot_seq_attr(show=True)\n",
    "    else:\n",
    "        print(\"Select mode!\")\n",
    "\n",
    "    # updating the chat history with the new answer\n",
    "    history.append((message, answer))\n",
    "\n",
    "    # returning the updated history\n",
    "    return history\n",
    "\n",
    "\n",
    "# interace function that provides the chat \"interface\"\n",
    "\n",
    "\n",
    "def interface(limit: int = 5):\n",
    "    history = []\n",
    "\n",
    "    # asking for input for set turns\n",
    "    for _ in range(limit):\n",
    "\n",
    "        # asking for user input\n",
    "        user_input = input(\"Enter your message: \")\n",
    "\n",
    "        # asking for the mode (vanilla chat or explained chat)\n",
    "        while True:\n",
    "            mode = input(\"Enter the mode ('explained' or 'vanilla'): \")\n",
    "\n",
    "            # validating input until it's correct\n",
    "            if mode.lower() in [\"explained\", \"vanilla\"]:\n",
    "                break\n",
    "            else:\n",
    "                print(\"Invalid mode. Please enter 'explained' or 'vanilla'.\")\n",
    "\n",
    "        # calling the chat function for conversation\n",
    "        history = chat(user_input, mode, history)\n",
    "\n",
    "        # Print the entire conversation history\n",
    "        for user_msg, bot_response in history:\n",
    "            print(f\"User: {user_msg}\")\n",
    "            print(f\"Bot: {bot_response}\")"
   ],
   "metadata": {
    "id": "zVSHWWVYbXcw",
    "executionInfo": {
     "status": "ok",
     "timestamp": 1706358704299,
     "user_tz": -60,
     "elapsed": 3,
     "user": {
      "displayName": "Lennard Zündorf",
      "userId": "01714560816823084743"
     }
    }
   },
   "execution_count": 53,
   "outputs": []
  },
  {
   "cell_type": "code",
   "source": [
    "# calling interface chat function\n",
    "interface()"
   ],
   "metadata": {
    "id": "E_uvTx_Mbaon"
   },
   "execution_count": null,
   "outputs": []
  },
  {
   "cell_type": "markdown",
   "source": [
    "#### Comment\n",
    "Using this prototype one can chat with Mistral, in a very simplified form. However the runtime of KernelSHAP here is typicall more than 10 and can exceed 20 minutes depending on the prompt size."
   ],
   "metadata": {
    "id": "tVrFGWYo4ALX"
   }
  }
 ]
}